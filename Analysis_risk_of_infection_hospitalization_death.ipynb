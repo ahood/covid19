{
 "cells": [
  {
   "cell_type": "markdown",
   "metadata": {},
   "source": [
    "# Purpose\n",
    "\n",
    "In this notebook we will look at incidence of infection, case hospitalization rate, and case fatality rate by age group.\n",
    "\n",
    "At https://www.cdc.gov/coronavirus/2019-ncov/covid-data/investigations-discovery/hospitalization-death-by-age.html, rates are reported only relative to the age 5-17 reference group, whereas I want the absolute rates."
   ]
  },
  {
   "cell_type": "markdown",
   "metadata": {},
   "source": [
    "# Data sources\n",
    "\n",
    "I am using the RELATIVE rates reported at (https://www.cdc.gov/coronavirus/2019-ncov/covid-data/investigations-discovery/hospitalization-death-by-age.html) to check my work and I am using the same data sources cited there:\n",
    "\n",
    "1. County-level population estimates by age group, sex and race from the Vintage 2019 Census estimates (downloaded from https://www2.census.gov/programs-surveys/popest/datasets/2010-2019/counties/asrh/cc-est2019-alldata.csv 25 Apr 2021). They for some reason cite a press release about Vintage 2019 instead of a dataset and this is the closest thing I could find to the right age breakdowns.\n",
    "2. Provisional COVID-19 death counts by age, sex and state (downloaded from https://data.cdc.gov/api/views/9bhg-hcku/rows.csv?accessType=DOWNLOAD 25 Apr 2021)\n",
    "3. Hospitalization rates by age based on surveillance data of select counties covering about 10% of the U.S. population total (downloaded from https://gis.cdc.gov/grasp/COVIDNet/COVID19_3.html 25 Apr 2021).\n",
    "\n",
    "We also need cases by age group, which I was able to find at the country level at https://covid.cdc.gov/covid-data-tracker/#demographics (downloaded 25 Apr 2021)."
   ]
  },
  {
   "cell_type": "markdown",
   "metadata": {},
   "source": [
    "# Setup"
   ]
  },
  {
   "cell_type": "code",
   "execution_count": 16,
   "metadata": {},
   "outputs": [],
   "source": [
    "import pandas as pd\n",
    "import numpy as np\n",
    "import matplotlib.pyplot as plt\n",
    "import seaborn as sns\n",
    "sns.set()\n",
    "%matplotlib inline\n",
    "\n",
    "deaths = pd.read_csv(\n",
    "    'Provisional_COVID-19_Death_Counts_by_Sex__Age__and_State.csv',\n",
    "    usecols=['Group','Year','Month','State','Sex','Age Group', 'COVID-19 Deaths']\n",
    ")\n",
    "deaths.columns = ['grp','yr','mo','state','sex','age','deaths']\n",
    "deaths.age.replace({\n",
    "    'All Ages':'all',\n",
    "    'Under 1 year':'<1',\n",
    "    '85 years and over':'85+'\n",
    "}, inplace=True)\n",
    "deaths.age = deaths.age.str.replace(' years','')\n",
    "\n",
    "pop = pd.read_csv('cc-est2019-alldata.csv', encoding='latin1')\n",
    "pop = pop[pop.YEAR == 12] # use 2019 estimate, not prior years'\n",
    "pop.AGEGRP = pop.AGEGRP.map({\n",
    "    0:'all',\n",
    "    1:'0-4',\n",
    "    2:'5-9',\n",
    "    3:'10-14',\n",
    "    4:'15-19',\n",
    "    5:'20-24',\n",
    "    6:'25-29',\n",
    "    7:'30-34',\n",
    "    8:'35-39',\n",
    "    9:'40-44',\n",
    "    10:'45-49',\n",
    "    11:'50-54',\n",
    "    12:'55-59',\n",
    "    13:'60-64',\n",
    "    14:'65-69',\n",
    "    15:'70-74',\n",
    "    16:'75-79',\n",
    "    17:'80-84',\n",
    "    18:'85+'\n",
    "}) # per data dictionary at https://www2.census.gov/programs-surveys/popest/technical-documentation/file-layouts/2010-2019/cc-est2019-alldata.pdf\n",
    "pop = pop[['STNAME','AGEGRP','TOT_POP','TOT_MALE','TOT_FEMALE']]\n",
    "pop.columns = ['state','age','tot','male','female']\n",
    "\n",
    "hosp = pd.read_csv(\n",
    "    'COVID-19Surveillance_All_Data.csv', \n",
    "    skiprows=2)\n",
    "hosp = hosp[(hosp.RACE == 'Overall') & (hosp.NETWORK == 'COVID-NET')]\n",
    "hosp.drop(columns=['RACE','CATCHMENT','NETWORK'], inplace=True)\n",
    "hosp.columns = ['yr','mmwr_yr','mmwr_wk','age','sex','cum_rate','weekly_rate']\n",
    "hosp.age.replace({\n",
    "    'Overall':'all',\n",
    "    '< 18':'<18',\n",
    "    '>= 18':'>=18'\n",
    "}, inplace=True)\n",
    "hosp.age = hosp.age.str.replace(' yr','')\n",
    "hosp.dropna(how='all', inplace=True)\n",
    "hosp = hosp[~hosp.age.isin(['all','18-49','65+','<18','>=18'])]\n",
    "hosp['Wk'] = hosp.apply(\n",
    "    lambda row: '%d_%02d' % (row.mmwr_yr, row.mmwr_wk),\n",
    "    axis=1\n",
    ")\n",
    "hosp.drop(columns=['yr','mmwr_yr','mmwr_wk','sex'], inplace=True)\n",
    "\n",
    "cases = pd.read_csv('cases_by_age_group.csv', skiprows=2)\n",
    "cases.columns = ['age','percent_of_cases','count_of_cases','percent_of_US_pop']\n",
    "cases.age = cases.age.str.replace(' Years','')"
   ]
  },
  {
   "cell_type": "markdown",
   "metadata": {},
   "source": [
    "# Reproducing normalized rate ratios and computing case hospitalization and case fatality rates"
   ]
  },
  {
   "cell_type": "markdown",
   "metadata": {},
   "source": [
    "Age breakdowns in each file:"
   ]
  },
  {
   "cell_type": "code",
   "execution_count": 18,
   "metadata": {},
   "outputs": [
    {
     "name": "stdout",
     "output_type": "stream",
     "text": [
      "pop: ['all', '0-4', '5-9', '10-14', '15-19', '20-24', '25-29', '30-34', '35-39', '40-44', '45-49', '50-54', '55-59', '60-64', '65-69', '70-74', '75-79', '80-84', '85+']\n",
      "cases: ['0-4', '5-17', '18-29', '30-39', '40-49', '50-64', '65-74', '75-84', '85+']\n",
      "hosp: ['0-4', '5-17', '50-64', '65-74', '75-84', '85+', '18-29', '30-39', '40-49']\n",
      "deaths: ['all', '<1', '0-17', '1-4', '5-14', '15-24', '18-29', '25-34', '30-39', '35-44', '40-49', '45-54', '50-64', '55-64', '65-74', '75-84', '85+']\n"
     ]
    }
   ],
   "source": [
    "print('pop:', list(pop.age.unique()))\n",
    "print('cases:', list(cases.age.unique()))\n",
    "print('hosp:', list(hosp.age.unique()))\n",
    "print('deaths:', list(deaths.age.unique()))"
   ]
  },
  {
   "cell_type": "markdown",
   "metadata": {},
   "source": [
    "We need 0-4, 5-17, 18-29, 30-39, 40-49, 50-64, 65-74, 75-84, 85+ in order to reproduce the rates we're after. Cases and hospitalizations already have these categories although they have extras and are out of order. Need to fix up population and deaths more."
   ]
  },
  {
   "cell_type": "code",
   "execution_count": 19,
   "metadata": {},
   "outputs": [],
   "source": [
    "ages = ['0-4','5-17','18-29','30-39','40-49','50-64','65-74','75-84','85+']\n",
    "cases = cases[cases.age.isin(ages)]\n",
    "hosp = hosp[hosp.age.isin(ages)]"
   ]
  },
  {
   "cell_type": "markdown",
   "metadata": {},
   "source": [
    "For population, we need to collapse a few categories (e.g. 75-79 and 80-84) and we need to split up 15-19 into 15-17 and 18-19. According to https://data.census.gov/cedsci/table?q=population%20by%20age&tid=ACSST1Y2019.S0101 (accessed 26 Apr 2021), there are 72,967,785 persons under 18."
   ]
  },
  {
   "cell_type": "code",
   "execution_count": 20,
   "metadata": {},
   "outputs": [],
   "source": [
    "pop_by_age = pop[pop.age != 'all'].drop(\n",
    "    columns=['state','male','female']\n",
    ").groupby('age').sum()\n",
    "pop_by_age.loc['18-19'] = pop_by_age.loc[['0-4','5-9','10-14','15-19']].sum()\\\n",
    "                        - 72967785\n",
    "pop_by_age.loc['5-17'] = pop_by_age.loc[['5-9','10-14','15-19']].sum()\\\n",
    "                       - pop_by_age.loc['18-19']\n",
    "pop_by_age.loc['18-29'] = pop_by_age.loc[['18-19','20-24','25-29']].sum()\n",
    "pop_by_age.loc['30-39'] = pop_by_age.loc[['30-34','35-39']].sum()\n",
    "pop_by_age.loc['40-49'] = pop_by_age.loc[['40-44','45-49']].sum()\n",
    "pop_by_age.loc['50-64'] = pop_by_age.loc[['50-54','55-59','60-64']].sum()\n",
    "pop_by_age.loc['65-74'] = pop_by_age.loc[['65-69','70-74']].sum()\n",
    "pop_by_age.loc['75-84'] = pop_by_age.loc[['75-79','80-84']].sum()\n",
    "pop_by_age = pop_by_age.reindex(ages)"
   ]
  },
  {
   "cell_type": "markdown",
   "metadata": {},
   "source": [
    "For deaths, we need to create the 0-4 and 5-17 categories."
   ]
  },
  {
   "cell_type": "code",
   "execution_count": 21,
   "metadata": {},
   "outputs": [],
   "source": [
    "deaths_by_age = deaths[\n",
    "    (deaths.state == 'United States') &\n",
    "    (deaths.sex == 'All Sexes') &\n",
    "    (deaths.grp == 'By Total')\n",
    "].drop(columns=['state','sex','grp','yr','mo']).set_index('age')\n",
    "deaths_by_age.loc['0-4'] = deaths_by_age.loc[['<1','1-4']].sum()\n",
    "deaths_by_age.loc['5-17'] = deaths_by_age.loc['0-17']\\\n",
    "                          - deaths_by_age.loc['0-4']\n",
    "deaths_by_age = deaths_by_age.reindex(ages)"
   ]
  },
  {
   "cell_type": "markdown",
   "metadata": {},
   "source": [
    "## Cases"
   ]
  },
  {
   "cell_type": "markdown",
   "metadata": {},
   "source": [
    "The cases data already has the right age buckets. What is displayed at https://www.cdc.gov/coronavirus/2019-ncov/covid-data/investigations-discovery/hospitalization-death-by-age.html is \n",
    "\n",
    "$\\frac{\\text{incidence of infection for given age group}}\n",
    "      {\\text{incidence of infection for 5-17 age group}}.$\n",
    "      \n",
    "In other words, this is\n",
    "\n",
    "$\\frac{\\text{# people in given age group who got COVID}}\n",
    "      {\\text{# people in given age group}} \\times\n",
    " \\frac{\\text{# people in 5-17 age group}}\n",
    "      {\\text{# people in 5-17 age group who got COVID}},$\n",
    "      \n",
    "which we can also write as\n",
    "\n",
    "$\\frac{\\text{# people in given age group who got COVID}}\n",
    "      {\\text{# people in 5-17 age group who got COVID}} \\times\n",
    " \\frac{\\text{# people in 5-17 age group}}\n",
    "      {\\text{# people in given age group}}$\n",
    "      \n",
    "and furthermore as\n",
    "\n",
    "$\\frac{\\text{# people in given age group who got COVID}/\n",
    "       \\text{total COVID cases}}\n",
    "      {\\text{# people in 5-17 age group who got COVID}/\n",
    "       \\text{total COVID cases}} \\times\n",
    " \\frac{\\text{# people in 5-17 age group}/\n",
    "       \\text{total U.S. population}}\n",
    "      {\\text{# people in given age group}/\n",
    "       \\text{total U.S. population}}$\n",
    "       \n",
    "which reduces to\n",
    "\n",
    "$\\frac{\\text{percent of COVID cases from given age group}}\n",
    "      {\\text{percent of COVID cases from 5-17 age group}} \\times\n",
    " \\frac{\\text{percent of population in 5-17 age group}}\n",
    "      {\\text{percent of population in given age group}}$\n",
    "      \n",
    "and can be computed easily from the cases dataframe as\n",
    "\n",
    "$\\frac{\\text{percent of COVID cases from given age group}}\n",
    "      {\\text{percent of population in given age group}}\n",
    " \\times\n",
    " \\frac{\\text{percent of population in 5-17 age group}}\n",
    "      {\\text{percent of COVID cases from 5-17 age group}}.$"
   ]
  },
  {
   "cell_type": "code",
   "execution_count": 22,
   "metadata": {},
   "outputs": [],
   "source": [
    "cases = cases.set_index('age')\n",
    "tmp = cases['percent_of_cases']/cases['percent_of_US_pop']\n",
    "cases['rates'] = tmp/tmp.loc['5-17']\n",
    "cases['rates_rounded'] = np.round(cases['rates'])"
   ]
  },
  {
   "cell_type": "code",
   "execution_count": 23,
   "metadata": {},
   "outputs": [
    {
     "data": {
      "text/html": [
       "<div>\n",
       "<style scoped>\n",
       "    .dataframe tbody tr th:only-of-type {\n",
       "        vertical-align: middle;\n",
       "    }\n",
       "\n",
       "    .dataframe tbody tr th {\n",
       "        vertical-align: top;\n",
       "    }\n",
       "\n",
       "    .dataframe thead th {\n",
       "        text-align: right;\n",
       "    }\n",
       "</style>\n",
       "<table border=\"1\" class=\"dataframe\">\n",
       "  <thead>\n",
       "    <tr style=\"text-align: right;\">\n",
       "      <th></th>\n",
       "      <th>rates</th>\n",
       "      <th>rates_rounded</th>\n",
       "    </tr>\n",
       "    <tr>\n",
       "      <th>age</th>\n",
       "      <th></th>\n",
       "      <th></th>\n",
       "    </tr>\n",
       "  </thead>\n",
       "  <tbody>\n",
       "    <tr>\n",
       "      <th>0-4</th>\n",
       "      <td>0.543333</td>\n",
       "      <td>1.0</td>\n",
       "    </tr>\n",
       "    <tr>\n",
       "      <th>5-17</th>\n",
       "      <td>1.000000</td>\n",
       "      <td>1.0</td>\n",
       "    </tr>\n",
       "    <tr>\n",
       "      <th>18-29</th>\n",
       "      <td>2.226341</td>\n",
       "      <td>2.0</td>\n",
       "    </tr>\n",
       "    <tr>\n",
       "      <th>30-39</th>\n",
       "      <td>1.980148</td>\n",
       "      <td>2.0</td>\n",
       "    </tr>\n",
       "    <tr>\n",
       "      <th>40-49</th>\n",
       "      <td>1.974553</td>\n",
       "      <td>2.0</td>\n",
       "    </tr>\n",
       "    <tr>\n",
       "      <th>50-64</th>\n",
       "      <td>1.731875</td>\n",
       "      <td>2.0</td>\n",
       "    </tr>\n",
       "    <tr>\n",
       "      <th>65-74</th>\n",
       "      <td>1.290417</td>\n",
       "      <td>1.0</td>\n",
       "    </tr>\n",
       "    <tr>\n",
       "      <th>75-84</th>\n",
       "      <td>1.297347</td>\n",
       "      <td>1.0</td>\n",
       "    </tr>\n",
       "    <tr>\n",
       "      <th>85+</th>\n",
       "      <td>1.874500</td>\n",
       "      <td>2.0</td>\n",
       "    </tr>\n",
       "  </tbody>\n",
       "</table>\n",
       "</div>"
      ],
      "text/plain": [
       "          rates  rates_rounded\n",
       "age                           \n",
       "0-4    0.543333            1.0\n",
       "5-17   1.000000            1.0\n",
       "18-29  2.226341            2.0\n",
       "30-39  1.980148            2.0\n",
       "40-49  1.974553            2.0\n",
       "50-64  1.731875            2.0\n",
       "65-74  1.290417            1.0\n",
       "75-84  1.297347            1.0\n",
       "85+    1.874500            2.0"
      ]
     },
     "execution_count": 23,
     "metadata": {},
     "output_type": "execute_result"
    }
   ],
   "source": [
    "cases[['rates','rates_rounded']]"
   ]
  },
  {
   "cell_type": "markdown",
   "metadata": {},
   "source": [
    "The rounded values above match the values in the table at https://www.cdc.gov/coronavirus/2019-ncov/covid-data/investigations-discovery/hospitalization-death-by-age.html."
   ]
  },
  {
   "cell_type": "markdown",
   "metadata": {},
   "source": [
    "However, I'm interested in knowing the following: what is the absolute incidence rate for each age group? In order to calculate this, we can simply calculate the incidence rate for the 5-17 age group. Then, multiplying each rate above by this incidence rate gives us the absolute incidence rate for each age group."
   ]
  },
  {
   "cell_type": "code",
   "execution_count": 24,
   "metadata": {},
   "outputs": [
    {
     "data": {
      "text/html": [
       "<div>\n",
       "<style scoped>\n",
       "    .dataframe tbody tr th:only-of-type {\n",
       "        vertical-align: middle;\n",
       "    }\n",
       "\n",
       "    .dataframe tbody tr th {\n",
       "        vertical-align: top;\n",
       "    }\n",
       "\n",
       "    .dataframe thead th {\n",
       "        text-align: right;\n",
       "    }\n",
       "</style>\n",
       "<table border=\"1\" class=\"dataframe\">\n",
       "  <thead>\n",
       "    <tr style=\"text-align: right;\">\n",
       "      <th></th>\n",
       "      <th>infection_incidence</th>\n",
       "    </tr>\n",
       "    <tr>\n",
       "      <th>age</th>\n",
       "      <th></th>\n",
       "    </tr>\n",
       "  </thead>\n",
       "  <tbody>\n",
       "    <tr>\n",
       "      <th>0-4</th>\n",
       "      <td>0.025331</td>\n",
       "    </tr>\n",
       "    <tr>\n",
       "      <th>5-17</th>\n",
       "      <td>0.046622</td>\n",
       "    </tr>\n",
       "    <tr>\n",
       "      <th>18-29</th>\n",
       "      <td>0.103797</td>\n",
       "    </tr>\n",
       "    <tr>\n",
       "      <th>30-39</th>\n",
       "      <td>0.092319</td>\n",
       "    </tr>\n",
       "    <tr>\n",
       "      <th>40-49</th>\n",
       "      <td>0.092058</td>\n",
       "    </tr>\n",
       "    <tr>\n",
       "      <th>50-64</th>\n",
       "      <td>0.080744</td>\n",
       "    </tr>\n",
       "    <tr>\n",
       "      <th>65-74</th>\n",
       "      <td>0.060162</td>\n",
       "    </tr>\n",
       "    <tr>\n",
       "      <th>75-84</th>\n",
       "      <td>0.060485</td>\n",
       "    </tr>\n",
       "    <tr>\n",
       "      <th>85+</th>\n",
       "      <td>0.087393</td>\n",
       "    </tr>\n",
       "  </tbody>\n",
       "</table>\n",
       "</div>"
      ],
      "text/plain": [
       "       infection_incidence\n",
       "age                       \n",
       "0-4               0.025331\n",
       "5-17              0.046622\n",
       "18-29             0.103797\n",
       "30-39             0.092319\n",
       "40-49             0.092058\n",
       "50-64             0.080744\n",
       "65-74             0.060162\n",
       "75-84             0.060485\n",
       "85+               0.087393"
      ]
     },
     "execution_count": 24,
     "metadata": {},
     "output_type": "execute_result"
    }
   ],
   "source": [
    "num_cases_5_17 = cases.loc['5-17', 'count_of_cases']\n",
    "total_persons_5_17 = pop_by_age.loc['5-17','tot']\n",
    "incidence_5_17 = num_cases_5_17/total_persons_5_17\n",
    "cases['infection_incidence'] = cases['rates']*incidence_5_17\n",
    "cases[['infection_incidence']]"
   ]
  },
  {
   "cell_type": "markdown",
   "metadata": {},
   "source": [
    "## Hospitalizations"
   ]
  },
  {
   "cell_type": "markdown",
   "metadata": {},
   "source": [
    "This picture looks just like the one at https://gis.cdc.gov/grasp/COVIDNet/COVID19_3.html."
   ]
  },
  {
   "cell_type": "code",
   "execution_count": 25,
   "metadata": {},
   "outputs": [
    {
     "data": {
      "text/plain": [
       "<matplotlib.axes._subplots.AxesSubplot at 0x106cd3da0>"
      ]
     },
     "execution_count": 25,
     "metadata": {},
     "output_type": "execute_result"
    },
    {
     "data": {
      "image/png": "[encoded data removed]",
      "text/plain": [
       "<Figure size 432x288 with 1 Axes>"
      ]
     },
     "metadata": {
      "needs_background": "light"
     },
     "output_type": "display_data"
    }
   ],
   "source": [
    "hosp.pivot(index='Wk', columns='age', values='weekly_rate').plot()"
   ]
  },
  {
   "cell_type": "markdown",
   "metadata": {},
   "source": [
    "However I think we care about the cumulative cases."
   ]
  },
  {
   "cell_type": "code",
   "execution_count": 26,
   "metadata": {},
   "outputs": [
    {
     "data": {
      "text/plain": [
       "<matplotlib.axes._subplots.AxesSubplot at 0x1281db2e8>"
      ]
     },
     "execution_count": 26,
     "metadata": {},
     "output_type": "execute_result"
    },
    {
     "data": {
      "image/png": "[encoded data removed]",
      "text/plain": [
       "<Figure size 432x288 with 1 Axes>"
      ]
     },
     "metadata": {
      "needs_background": "light"
     },
     "output_type": "display_data"
    }
   ],
   "source": [
    "hosp.pivot(index='Wk', columns='age', values='cum_rate').plot()"
   ]
  },
  {
   "cell_type": "markdown",
   "metadata": {},
   "source": [
    "Moreover I'm guessing the rates are based on the latest available cumulative rates."
   ]
  },
  {
   "cell_type": "code",
   "execution_count": 27,
   "metadata": {},
   "outputs": [
    {
     "data": {
      "text/plain": [
       "'2021_15'"
      ]
     },
     "execution_count": 27,
     "metadata": {},
     "output_type": "execute_result"
    }
   ],
   "source": [
    "hosp.Wk[hosp.cum_rate.notnull()].max()"
   ]
  },
  {
   "cell_type": "code",
   "execution_count": 28,
   "metadata": {},
   "outputs": [
    {
     "data": {
      "text/html": [
       "<div>\n",
       "<style scoped>\n",
       "    .dataframe tbody tr th:only-of-type {\n",
       "        vertical-align: middle;\n",
       "    }\n",
       "\n",
       "    .dataframe tbody tr th {\n",
       "        vertical-align: top;\n",
       "    }\n",
       "\n",
       "    .dataframe thead th {\n",
       "        text-align: right;\n",
       "    }\n",
       "</style>\n",
       "<table border=\"1\" class=\"dataframe\">\n",
       "  <thead>\n",
       "    <tr style=\"text-align: right;\">\n",
       "      <th></th>\n",
       "      <th>cum_rate</th>\n",
       "      <th>weekly_rate</th>\n",
       "      <th>rel_weekly_rate</th>\n",
       "      <th>rel_cum_rate</th>\n",
       "      <th>rel_cum_rounded</th>\n",
       "      <th>rel_weekly_rounded</th>\n",
       "    </tr>\n",
       "    <tr>\n",
       "      <th>age</th>\n",
       "      <th></th>\n",
       "      <th></th>\n",
       "      <th></th>\n",
       "      <th></th>\n",
       "      <th></th>\n",
       "      <th></th>\n",
       "    </tr>\n",
       "  </thead>\n",
       "  <tbody>\n",
       "    <tr>\n",
       "      <th>0-4</th>\n",
       "      <td>52.4</td>\n",
       "      <td>0.7</td>\n",
       "      <td>1.000000</td>\n",
       "      <td>1.642633</td>\n",
       "      <td>2.0</td>\n",
       "      <td>1.0</td>\n",
       "    </tr>\n",
       "    <tr>\n",
       "      <th>5-17</th>\n",
       "      <td>31.9</td>\n",
       "      <td>0.7</td>\n",
       "      <td>1.000000</td>\n",
       "      <td>1.000000</td>\n",
       "      <td>1.0</td>\n",
       "      <td>1.0</td>\n",
       "    </tr>\n",
       "    <tr>\n",
       "      <th>18-29</th>\n",
       "      <td>194.8</td>\n",
       "      <td>2.9</td>\n",
       "      <td>4.142857</td>\n",
       "      <td>6.106583</td>\n",
       "      <td>6.0</td>\n",
       "      <td>4.0</td>\n",
       "    </tr>\n",
       "    <tr>\n",
       "      <th>30-39</th>\n",
       "      <td>301.2</td>\n",
       "      <td>5.5</td>\n",
       "      <td>7.857143</td>\n",
       "      <td>9.442006</td>\n",
       "      <td>9.0</td>\n",
       "      <td>8.0</td>\n",
       "    </tr>\n",
       "    <tr>\n",
       "      <th>40-49</th>\n",
       "      <td>447.5</td>\n",
       "      <td>8.3</td>\n",
       "      <td>11.857143</td>\n",
       "      <td>14.028213</td>\n",
       "      <td>14.0</td>\n",
       "      <td>12.0</td>\n",
       "    </tr>\n",
       "    <tr>\n",
       "      <th>50-64</th>\n",
       "      <td>760.9</td>\n",
       "      <td>13.3</td>\n",
       "      <td>19.000000</td>\n",
       "      <td>23.852665</td>\n",
       "      <td>24.0</td>\n",
       "      <td>19.0</td>\n",
       "    </tr>\n",
       "    <tr>\n",
       "      <th>65-74</th>\n",
       "      <td>1163.2</td>\n",
       "      <td>12.1</td>\n",
       "      <td>17.285714</td>\n",
       "      <td>36.463950</td>\n",
       "      <td>36.0</td>\n",
       "      <td>17.0</td>\n",
       "    </tr>\n",
       "    <tr>\n",
       "      <th>75-84</th>\n",
       "      <td>1951.8</td>\n",
       "      <td>15.9</td>\n",
       "      <td>22.714286</td>\n",
       "      <td>61.184953</td>\n",
       "      <td>61.0</td>\n",
       "      <td>23.0</td>\n",
       "    </tr>\n",
       "    <tr>\n",
       "      <th>85+</th>\n",
       "      <td>2875.7</td>\n",
       "      <td>16.1</td>\n",
       "      <td>23.000000</td>\n",
       "      <td>90.147335</td>\n",
       "      <td>90.0</td>\n",
       "      <td>23.0</td>\n",
       "    </tr>\n",
       "  </tbody>\n",
       "</table>\n",
       "</div>"
      ],
      "text/plain": [
       "       cum_rate  weekly_rate  rel_weekly_rate  rel_cum_rate  rel_cum_rounded  \\\n",
       "age                                                                            \n",
       "0-4        52.4          0.7         1.000000      1.642633              2.0   \n",
       "5-17       31.9          0.7         1.000000      1.000000              1.0   \n",
       "18-29     194.8          2.9         4.142857      6.106583              6.0   \n",
       "30-39     301.2          5.5         7.857143      9.442006              9.0   \n",
       "40-49     447.5          8.3        11.857143     14.028213             14.0   \n",
       "50-64     760.9         13.3        19.000000     23.852665             24.0   \n",
       "65-74    1163.2         12.1        17.285714     36.463950             36.0   \n",
       "75-84    1951.8         15.9        22.714286     61.184953             61.0   \n",
       "85+      2875.7         16.1        23.000000     90.147335             90.0   \n",
       "\n",
       "       rel_weekly_rounded  \n",
       "age                        \n",
       "0-4                   1.0  \n",
       "5-17                  1.0  \n",
       "18-29                 4.0  \n",
       "30-39                 8.0  \n",
       "40-49                12.0  \n",
       "50-64                19.0  \n",
       "65-74                17.0  \n",
       "75-84                23.0  \n",
       "85+                  23.0  "
      ]
     },
     "execution_count": 28,
     "metadata": {},
     "output_type": "execute_result"
    }
   ],
   "source": [
    "latest_hosp = hosp[hosp.Wk == '2021_15'].drop(\n",
    "    columns=['Wk']).set_index('age').reindex(ages)\n",
    "latest_hosp['rel_weekly_rate'] = latest_hosp.weekly_rate/latest_hosp.weekly_rate.loc['5-17']\n",
    "latest_hosp['rel_cum_rate'] = latest_hosp.cum_rate/latest_hosp.cum_rate.loc['5-17']\n",
    "latest_hosp['rel_cum_rounded'] = np.round(latest_hosp.rel_cum_rate)\n",
    "latest_hosp['rel_weekly_rounded'] = np.round(latest_hosp.rel_weekly_rate)\n",
    "latest_hosp"
   ]
  },
  {
   "cell_type": "markdown",
   "metadata": {},
   "source": [
    "The rounded rates in the second to last column are similar to but not equal to the rates shown at https://www.cdc.gov/coronavirus/2019-ncov/covid-data/investigations-discovery/hospitalization-death-by-age.html (e.g. it should be 15x for 40-49). I put in the last column just as a sanity check and that one is even more off from the rates on the web page.\n",
    "\n",
    "But wait, they said they accessed this data on 23 Mar 2021 and it covered hospitalizations through 3/13/2021, which would be week 11. Maybe if we use that."
   ]
  },
  {
   "cell_type": "code",
   "execution_count": 29,
   "metadata": {},
   "outputs": [
    {
     "data": {
      "text/html": [
       "<div>\n",
       "<style scoped>\n",
       "    .dataframe tbody tr th:only-of-type {\n",
       "        vertical-align: middle;\n",
       "    }\n",
       "\n",
       "    .dataframe tbody tr th {\n",
       "        vertical-align: top;\n",
       "    }\n",
       "\n",
       "    .dataframe thead th {\n",
       "        text-align: right;\n",
       "    }\n",
       "</style>\n",
       "<table border=\"1\" class=\"dataframe\">\n",
       "  <thead>\n",
       "    <tr style=\"text-align: right;\">\n",
       "      <th></th>\n",
       "      <th>cum_rate</th>\n",
       "      <th>weekly_rate</th>\n",
       "      <th>rel_weekly_rate</th>\n",
       "      <th>rel_cum_rate</th>\n",
       "      <th>rel_cum_rounded</th>\n",
       "      <th>rel_weekly_rounded</th>\n",
       "    </tr>\n",
       "    <tr>\n",
       "      <th>age</th>\n",
       "      <th></th>\n",
       "      <th></th>\n",
       "      <th></th>\n",
       "      <th></th>\n",
       "      <th></th>\n",
       "      <th></th>\n",
       "    </tr>\n",
       "  </thead>\n",
       "  <tbody>\n",
       "    <tr>\n",
       "      <th>0-4</th>\n",
       "      <td>48.0</td>\n",
       "      <td>1.2</td>\n",
       "      <td>1.714286</td>\n",
       "      <td>1.655172</td>\n",
       "      <td>2.0</td>\n",
       "      <td>2.0</td>\n",
       "    </tr>\n",
       "    <tr>\n",
       "      <th>5-17</th>\n",
       "      <td>29.0</td>\n",
       "      <td>0.7</td>\n",
       "      <td>1.000000</td>\n",
       "      <td>1.000000</td>\n",
       "      <td>1.0</td>\n",
       "      <td>1.0</td>\n",
       "    </tr>\n",
       "    <tr>\n",
       "      <th>18-29</th>\n",
       "      <td>179.7</td>\n",
       "      <td>3.0</td>\n",
       "      <td>4.285714</td>\n",
       "      <td>6.196552</td>\n",
       "      <td>6.0</td>\n",
       "      <td>4.0</td>\n",
       "    </tr>\n",
       "    <tr>\n",
       "      <th>30-39</th>\n",
       "      <td>276.8</td>\n",
       "      <td>4.6</td>\n",
       "      <td>6.571429</td>\n",
       "      <td>9.544828</td>\n",
       "      <td>10.0</td>\n",
       "      <td>7.0</td>\n",
       "    </tr>\n",
       "    <tr>\n",
       "      <th>40-49</th>\n",
       "      <td>410.5</td>\n",
       "      <td>6.5</td>\n",
       "      <td>9.285714</td>\n",
       "      <td>14.155172</td>\n",
       "      <td>14.0</td>\n",
       "      <td>9.0</td>\n",
       "    </tr>\n",
       "    <tr>\n",
       "      <th>50-64</th>\n",
       "      <td>702.9</td>\n",
       "      <td>12.0</td>\n",
       "      <td>17.142857</td>\n",
       "      <td>24.237931</td>\n",
       "      <td>24.0</td>\n",
       "      <td>17.0</td>\n",
       "    </tr>\n",
       "    <tr>\n",
       "      <th>65-74</th>\n",
       "      <td>1102.8</td>\n",
       "      <td>13.5</td>\n",
       "      <td>19.285714</td>\n",
       "      <td>38.027586</td>\n",
       "      <td>38.0</td>\n",
       "      <td>19.0</td>\n",
       "    </tr>\n",
       "    <tr>\n",
       "      <th>75-84</th>\n",
       "      <td>1873.4</td>\n",
       "      <td>19.2</td>\n",
       "      <td>27.428571</td>\n",
       "      <td>64.600000</td>\n",
       "      <td>65.0</td>\n",
       "      <td>27.0</td>\n",
       "    </tr>\n",
       "    <tr>\n",
       "      <th>85+</th>\n",
       "      <td>2786.8</td>\n",
       "      <td>20.1</td>\n",
       "      <td>28.714286</td>\n",
       "      <td>96.096552</td>\n",
       "      <td>96.0</td>\n",
       "      <td>29.0</td>\n",
       "    </tr>\n",
       "  </tbody>\n",
       "</table>\n",
       "</div>"
      ],
      "text/plain": [
       "       cum_rate  weekly_rate  rel_weekly_rate  rel_cum_rate  rel_cum_rounded  \\\n",
       "age                                                                            \n",
       "0-4        48.0          1.2         1.714286      1.655172              2.0   \n",
       "5-17       29.0          0.7         1.000000      1.000000              1.0   \n",
       "18-29     179.7          3.0         4.285714      6.196552              6.0   \n",
       "30-39     276.8          4.6         6.571429      9.544828             10.0   \n",
       "40-49     410.5          6.5         9.285714     14.155172             14.0   \n",
       "50-64     702.9         12.0        17.142857     24.237931             24.0   \n",
       "65-74    1102.8         13.5        19.285714     38.027586             38.0   \n",
       "75-84    1873.4         19.2        27.428571     64.600000             65.0   \n",
       "85+      2786.8         20.1        28.714286     96.096552             96.0   \n",
       "\n",
       "       rel_weekly_rounded  \n",
       "age                        \n",
       "0-4                   2.0  \n",
       "5-17                  1.0  \n",
       "18-29                 4.0  \n",
       "30-39                 7.0  \n",
       "40-49                 9.0  \n",
       "50-64                17.0  \n",
       "65-74                19.0  \n",
       "75-84                27.0  \n",
       "85+                  29.0  "
      ]
     },
     "execution_count": 29,
     "metadata": {},
     "output_type": "execute_result"
    }
   ],
   "source": [
    "latest_hosp = hosp[hosp.Wk == '2021_11'].drop(\n",
    "    columns=['Wk']).set_index('age').reindex(ages)\n",
    "latest_hosp['rel_weekly_rate'] = latest_hosp.weekly_rate/latest_hosp.weekly_rate.loc['5-17']\n",
    "latest_hosp['rel_cum_rate'] = latest_hosp.cum_rate/latest_hosp.cum_rate.loc['5-17']\n",
    "latest_hosp['rel_cum_rounded'] = np.round(latest_hosp.rel_cum_rate)\n",
    "latest_hosp['rel_weekly_rounded'] = np.round(latest_hosp.rel_weekly_rate)\n",
    "latest_hosp"
   ]
  },
  {
   "cell_type": "markdown",
   "metadata": {},
   "source": [
    "This is still not on the money. Not sure why. Anyway, according to https://gis.cdc.gov/grasp/COVIDNet/COVID19_3.html, these rates are incidence per 100,000 population. \n",
    "\n",
    "From this, we can calculate the fraction of each age group that has been hospitalized, by dividing the incidence per 100,000 by 100,000."
   ]
  },
  {
   "cell_type": "code",
   "execution_count": 30,
   "metadata": {},
   "outputs": [
    {
     "data": {
      "text/html": [
       "<div>\n",
       "<style scoped>\n",
       "    .dataframe tbody tr th:only-of-type {\n",
       "        vertical-align: middle;\n",
       "    }\n",
       "\n",
       "    .dataframe tbody tr th {\n",
       "        vertical-align: top;\n",
       "    }\n",
       "\n",
       "    .dataframe thead th {\n",
       "        text-align: right;\n",
       "    }\n",
       "</style>\n",
       "<table border=\"1\" class=\"dataframe\">\n",
       "  <thead>\n",
       "    <tr style=\"text-align: right;\">\n",
       "      <th></th>\n",
       "      <th>cum_hosp_incidence</th>\n",
       "    </tr>\n",
       "    <tr>\n",
       "      <th>age</th>\n",
       "      <th></th>\n",
       "    </tr>\n",
       "  </thead>\n",
       "  <tbody>\n",
       "    <tr>\n",
       "      <th>0-4</th>\n",
       "      <td>0.000524</td>\n",
       "    </tr>\n",
       "    <tr>\n",
       "      <th>5-17</th>\n",
       "      <td>0.000319</td>\n",
       "    </tr>\n",
       "    <tr>\n",
       "      <th>18-29</th>\n",
       "      <td>0.001948</td>\n",
       "    </tr>\n",
       "    <tr>\n",
       "      <th>30-39</th>\n",
       "      <td>0.003012</td>\n",
       "    </tr>\n",
       "    <tr>\n",
       "      <th>40-49</th>\n",
       "      <td>0.004475</td>\n",
       "    </tr>\n",
       "    <tr>\n",
       "      <th>50-64</th>\n",
       "      <td>0.007609</td>\n",
       "    </tr>\n",
       "    <tr>\n",
       "      <th>65-74</th>\n",
       "      <td>0.011632</td>\n",
       "    </tr>\n",
       "    <tr>\n",
       "      <th>75-84</th>\n",
       "      <td>0.019518</td>\n",
       "    </tr>\n",
       "    <tr>\n",
       "      <th>85+</th>\n",
       "      <td>0.028757</td>\n",
       "    </tr>\n",
       "  </tbody>\n",
       "</table>\n",
       "</div>"
      ],
      "text/plain": [
       "       cum_hosp_incidence\n",
       "age                      \n",
       "0-4              0.000524\n",
       "5-17             0.000319\n",
       "18-29            0.001948\n",
       "30-39            0.003012\n",
       "40-49            0.004475\n",
       "50-64            0.007609\n",
       "65-74            0.011632\n",
       "75-84            0.019518\n",
       "85+              0.028757"
      ]
     },
     "execution_count": 30,
     "metadata": {},
     "output_type": "execute_result"
    }
   ],
   "source": [
    "latest_hosp = hosp[hosp.Wk == '2021_15'].drop(\n",
    "    columns=['Wk']).set_index('age').reindex(ages)\n",
    "latest_hosp['cum_hosp_incidence'] = latest_hosp.cum_rate/1e5\n",
    "latest_hosp[['cum_hosp_incidence']]"
   ]
  },
  {
   "cell_type": "markdown",
   "metadata": {},
   "source": [
    "We can also calculate the fraction of infected people from each age group who were hospitalized, as\n",
    "\n",
    "$\\frac{\\text{# people hospitalized in this age group}}\n",
    "      {\\text{# people infected in this age group}}$, \n",
    "which we can also write as\n",
    "          \n",
    "$\\frac{\\text{# people hospitalized in this age group / total # in age group}}\n",
    "      {\\text{# people infected in this age group / total # in age group}}$,\n",
    "which we can calculate as simply the cumulative hospital incidence from the hospital latest dataframe divided by the infection incidence column from the caess dataframe."
   ]
  },
  {
   "cell_type": "code",
   "execution_count": 31,
   "metadata": {},
   "outputs": [
    {
     "data": {
      "text/plain": [
       "Text(0, 0.5, 'infected fraction hospitalized')"
      ]
     },
     "execution_count": 31,
     "metadata": {},
     "output_type": "execute_result"
    },
    {
     "data": {
      "image/png": "[encoded data removed]",
      "text/plain": [
       "<Figure size 432x288 with 1 Axes>"
      ]
     },
     "metadata": {
      "needs_background": "light"
     },
     "output_type": "display_data"
    }
   ],
   "source": [
    "(latest_hosp.cum_hosp_incidence/cases.infection_incidence).plot(kind='bar')\n",
    "plt.title('Case hospitalization rates by age group')\n",
    "plt.ylabel('infected fraction hospitalized')"
   ]
  },
  {
   "cell_type": "code",
   "execution_count": 32,
   "metadata": {},
   "outputs": [
    {
     "data": {
      "text/plain": [
       "age\n",
       "0-4      0.020686\n",
       "5-17     0.006842\n",
       "18-29    0.018767\n",
       "30-39    0.032626\n",
       "40-49    0.048611\n",
       "50-64    0.094236\n",
       "65-74    0.193344\n",
       "75-84    0.322690\n",
       "85+      0.329052\n",
       "dtype: float64"
      ]
     },
     "execution_count": 32,
     "metadata": {},
     "output_type": "execute_result"
    }
   ],
   "source": [
    "(latest_hosp.cum_hosp_incidence/cases.infection_incidence)"
   ]
  },
  {
   "cell_type": "markdown",
   "metadata": {},
   "source": [
    "I had also heard that the correct answer to \"what are your chances of going to the hospital if you get COVID-19\" is supposed to be less than 5%. Let's see if this is true overall."
   ]
  },
  {
   "cell_type": "code",
   "execution_count": 33,
   "metadata": {},
   "outputs": [
    {
     "data": {
      "text/plain": [
       "0.07187370022176338"
      ]
     },
     "execution_count": 33,
     "metadata": {},
     "output_type": "execute_result"
    }
   ],
   "source": [
    "total_hospitalizations = (latest_hosp.cum_hosp_incidence*pop_by_age.tot).sum()\n",
    "total_cases = cases.count_of_cases.sum()\n",
    "total_hospitalizations/total_cases"
   ]
  },
  {
   "cell_type": "markdown",
   "metadata": {},
   "source": [
    "More like 7% in terms of what's happened cumulatively. However this is in the right ballpark and I imagine chances of hospitalization have decreased somewhat over time due to the most vulnerable people being removed from the susceptible set, at least temporarily."
   ]
  },
  {
   "cell_type": "markdown",
   "metadata": {},
   "source": [
    "## Deaths"
   ]
  },
  {
   "cell_type": "markdown",
   "metadata": {},
   "source": [
    "These are the total provisional death counts as of now."
   ]
  },
  {
   "cell_type": "code",
   "execution_count": 34,
   "metadata": {},
   "outputs": [
    {
     "data": {
      "text/plain": [
       "deaths    551728.0\n",
       "dtype: float64"
      ]
     },
     "execution_count": 34,
     "metadata": {},
     "output_type": "execute_result"
    }
   ],
   "source": [
    "deaths_by_age.sum()"
   ]
  },
  {
   "cell_type": "markdown",
   "metadata": {},
   "source": [
    "We must first get the percentage of each age group that has died. Then we can compare rates."
   ]
  },
  {
   "cell_type": "code",
   "execution_count": 35,
   "metadata": {},
   "outputs": [
    {
     "data": {
      "text/plain": [
       "age\n",
       "0-4         1.490490\n",
       "5-17        1.000000\n",
       "18-29      11.903118\n",
       "30-39      41.998635\n",
       "40-49     124.760094\n",
       "50-64     415.172436\n",
       "65-74    1201.833339\n",
       "75-84    2970.118150\n",
       "85+      7912.278328\n",
       "Name: death_rate, dtype: float64"
      ]
     },
     "execution_count": 35,
     "metadata": {},
     "output_type": "execute_result"
    }
   ],
   "source": [
    "deaths_by_age['death_rate'] = deaths_by_age.deaths/pop_by_age.tot\n",
    "deaths_by_age.death_rate/deaths_by_age.death_rate.loc['5-17']"
   ]
  },
  {
   "cell_type": "markdown",
   "metadata": {},
   "source": [
    "These track with what's at https://www.cdc.gov/coronavirus/2019-ncov/covid-data/investigations-discovery/hospitalization-death-by-age.html by order of magnitude but are pretty off in absolute terms. Again, not sure why. Probably using different population file than they did. Anyway, now we can compute case fatality rate by age group."
   ]
  },
  {
   "cell_type": "code",
   "execution_count": 36,
   "metadata": {},
   "outputs": [
    {
     "data": {
      "text/plain": [
       "age\n",
       "0-4      0.000190\n",
       "5-17     0.000069\n",
       "18-29    0.000369\n",
       "30-39    0.001466\n",
       "40-49    0.004366\n",
       "50-64    0.016565\n",
       "65-74    0.064355\n",
       "75-84    0.158192\n",
       "85+      0.291664\n",
       "dtype: float64"
      ]
     },
     "execution_count": 36,
     "metadata": {},
     "output_type": "execute_result"
    }
   ],
   "source": [
    "deaths_by_age.death_rate/cases.infection_incidence"
   ]
  },
  {
   "cell_type": "markdown",
   "metadata": {},
   "source": [
    "That's really quite high for the 85+ group... very sad. Even the 50-64 group is concerning."
   ]
  },
  {
   "cell_type": "markdown",
   "metadata": {},
   "source": [
    "# Addendum"
   ]
  },
  {
   "cell_type": "markdown",
   "metadata": {},
   "source": [
    "## NJ-specific\n",
    "\n",
    "[This article](https://www.nj.com/coronavirus/2021/05/nj-reports-10-covid-deaths-459-positive-tests-hospitalizations-cases-continue-sharp-decline.html) cited what percentage of cases/deaths were made up by each age group. I can quickly compute age-group-specific case fatality rates using these percentages along with the NJ-level case fatality rate per [Worldometer](https://www.worldometers.info/coronavirus/usa/new-jersey/) as of today. This is how:\n",
    "\n",
    "We want:\n",
    "\n",
    "$$\\frac{\\text{# of deaths among age group X}}\n",
    "       {\\text{# of cases among age group X}}.$$\n",
    "\n",
    "We have:\n",
    "\n",
    "$$\\frac{\\text{% of all COVID deaths that occured in age group X}}\n",
    "       {\\text{% of all COVID cases that occured in age group X}}.$$\n",
    "\n",
    "To turn what we have into what we want, rewrite as follows:\n",
    "\n",
    "\\begin{align*}\n",
    " \\frac{\\text{% of all COVID deaths that occured in age group X}}\n",
    "      {\\text{% of all COVID cases that occured in age group X}}\n",
    "&= \\frac{\\text{(# of deaths among age group X)/(total deaths)}}\n",
    "        {\\text{(# of cases among age group X)/(total cases)}}\\\\ \n",
    "&= \\frac{\\text{# of deaths among age group X}}{\\text{# of cases among age group X}} \\cdot\n",
    "\\frac{1}{\\frac{\\text{total deaths}}{\\text{total cases}}}.\n",
    "\\end{align*}\n",
    "\n",
    "Then given that there have been 25,810 deaths and 1,008,046 cases in NJ per Worldometer, we can multiply what we have by the ratio (total deaths)/(total cases) to obtain what we want."
   ]
  },
  {
   "cell_type": "code",
   "execution_count": 37,
   "metadata": {},
   "outputs": [
    {
     "data": {
      "text/plain": [
       "0.02560399029409372"
      ]
     },
     "execution_count": 37,
     "metadata": {},
     "output_type": "execute_result"
    }
   ],
   "source": [
    "NJ_case_fatality_rate = 25810/1008046\n",
    "NJ_case_fatality_rate"
   ]
  },
  {
   "cell_type": "markdown",
   "metadata": {},
   "source": [
    "From article:"
   ]
  },
  {
   "cell_type": "code",
   "execution_count": 38,
   "metadata": {},
   "outputs": [],
   "source": [
    "NJ_age_breakdown = pd.DataFrame({\n",
    "    '% of infections':[0.02, 0.099, 0.199, 0.309, 0.225, 0.101, 0.044],\n",
    "    '% of deaths':[0, 0, 0.004, 0.04, 0.161, 0.336, 0.459]},\n",
    "    index=['0-4','5-17','18-29','30-49','50-64','65-79','80+'])"
   ]
  },
  {
   "cell_type": "markdown",
   "metadata": {},
   "source": [
    "Simple manipulation to get case fatality rates by age group."
   ]
  },
  {
   "cell_type": "code",
   "execution_count": 39,
   "metadata": {},
   "outputs": [
    {
     "data": {
      "text/html": [
       "<div>\n",
       "<style scoped>\n",
       "    .dataframe tbody tr th:only-of-type {\n",
       "        vertical-align: middle;\n",
       "    }\n",
       "\n",
       "    .dataframe tbody tr th {\n",
       "        vertical-align: top;\n",
       "    }\n",
       "\n",
       "    .dataframe thead th {\n",
       "        text-align: right;\n",
       "    }\n",
       "</style>\n",
       "<table border=\"1\" class=\"dataframe\">\n",
       "  <thead>\n",
       "    <tr style=\"text-align: right;\">\n",
       "      <th></th>\n",
       "      <th>% of infections</th>\n",
       "      <th>% of deaths</th>\n",
       "      <th>case_fatality_rate</th>\n",
       "    </tr>\n",
       "  </thead>\n",
       "  <tbody>\n",
       "    <tr>\n",
       "      <th>0-4</th>\n",
       "      <td>0.020</td>\n",
       "      <td>0.000</td>\n",
       "      <td>0.000000</td>\n",
       "    </tr>\n",
       "    <tr>\n",
       "      <th>5-17</th>\n",
       "      <td>0.099</td>\n",
       "      <td>0.000</td>\n",
       "      <td>0.000000</td>\n",
       "    </tr>\n",
       "    <tr>\n",
       "      <th>18-29</th>\n",
       "      <td>0.199</td>\n",
       "      <td>0.004</td>\n",
       "      <td>0.000515</td>\n",
       "    </tr>\n",
       "    <tr>\n",
       "      <th>30-49</th>\n",
       "      <td>0.309</td>\n",
       "      <td>0.040</td>\n",
       "      <td>0.003314</td>\n",
       "    </tr>\n",
       "    <tr>\n",
       "      <th>50-64</th>\n",
       "      <td>0.225</td>\n",
       "      <td>0.161</td>\n",
       "      <td>0.018321</td>\n",
       "    </tr>\n",
       "    <tr>\n",
       "      <th>65-79</th>\n",
       "      <td>0.101</td>\n",
       "      <td>0.336</td>\n",
       "      <td>0.085178</td>\n",
       "    </tr>\n",
       "    <tr>\n",
       "      <th>80+</th>\n",
       "      <td>0.044</td>\n",
       "      <td>0.459</td>\n",
       "      <td>0.267096</td>\n",
       "    </tr>\n",
       "  </tbody>\n",
       "</table>\n",
       "</div>"
      ],
      "text/plain": [
       "       % of infections  % of deaths  case_fatality_rate\n",
       "0-4              0.020        0.000            0.000000\n",
       "5-17             0.099        0.000            0.000000\n",
       "18-29            0.199        0.004            0.000515\n",
       "30-49            0.309        0.040            0.003314\n",
       "50-64            0.225        0.161            0.018321\n",
       "65-79            0.101        0.336            0.085178\n",
       "80+              0.044        0.459            0.267096"
      ]
     },
     "execution_count": 39,
     "metadata": {},
     "output_type": "execute_result"
    }
   ],
   "source": [
    "NJ_age_breakdown['case_fatality_rate'] =\\\n",
    "    (NJ_age_breakdown['% of deaths']/NJ_age_breakdown['% of infections'])*NJ_case_fatality_rate\n",
    "NJ_age_breakdown"
   ]
  },
  {
   "cell_type": "markdown",
   "metadata": {},
   "source": [
    "This lines up pretty well with what I computed above at the national level. \n",
    "\n",
    "While I'm here I want to check the chances of hospitalization by age by pulling the infection and hospitalization counts from the NJ state dashboards at https://njhealth.maps.arcgis.com/apps/opsdashboard/index.html#/81a17865cb1a44db92eb8eb421703635. No way to download the underlying data as far as I can see so I'm hand-transcribing the numbers here."
   ]
  },
  {
   "cell_type": "code",
   "execution_count": 10,
   "metadata": {},
   "outputs": [
    {
     "data": {
      "text/html": [
       "<div>\n",
       "<style scoped>\n",
       "    .dataframe tbody tr th:only-of-type {\n",
       "        vertical-align: middle;\n",
       "    }\n",
       "\n",
       "    .dataframe tbody tr th {\n",
       "        vertical-align: top;\n",
       "    }\n",
       "\n",
       "    .dataframe thead th {\n",
       "        text-align: right;\n",
       "    }\n",
       "</style>\n",
       "<table border=\"1\" class=\"dataframe\">\n",
       "  <thead>\n",
       "    <tr style=\"text-align: right;\">\n",
       "      <th></th>\n",
       "      <th>% of infections</th>\n",
       "      <th>% of deaths</th>\n",
       "      <th>case_fatality_rate</th>\n",
       "      <th>ever_hospitalized</th>\n",
       "      <th>confirmed_cases</th>\n",
       "      <th>case_hospitalization_rate</th>\n",
       "    </tr>\n",
       "  </thead>\n",
       "  <tbody>\n",
       "    <tr>\n",
       "      <th>0-4</th>\n",
       "      <td>0.020</td>\n",
       "      <td>0.000</td>\n",
       "      <td>0.000000</td>\n",
       "      <td>418</td>\n",
       "      <td>18166</td>\n",
       "      <td>0.023010</td>\n",
       "    </tr>\n",
       "    <tr>\n",
       "      <th>5-17</th>\n",
       "      <td>0.099</td>\n",
       "      <td>0.000</td>\n",
       "      <td>0.000000</td>\n",
       "      <td>675</td>\n",
       "      <td>87766</td>\n",
       "      <td>0.007691</td>\n",
       "    </tr>\n",
       "    <tr>\n",
       "      <th>18-29</th>\n",
       "      <td>0.199</td>\n",
       "      <td>0.004</td>\n",
       "      <td>0.000515</td>\n",
       "      <td>3663</td>\n",
       "      <td>175635</td>\n",
       "      <td>0.020856</td>\n",
       "    </tr>\n",
       "    <tr>\n",
       "      <th>30-49</th>\n",
       "      <td>0.309</td>\n",
       "      <td>0.040</td>\n",
       "      <td>0.003314</td>\n",
       "      <td>13433</td>\n",
       "      <td>272494</td>\n",
       "      <td>0.049296</td>\n",
       "    </tr>\n",
       "    <tr>\n",
       "      <th>50-64</th>\n",
       "      <td>0.225</td>\n",
       "      <td>0.161</td>\n",
       "      <td>0.018321</td>\n",
       "      <td>21324</td>\n",
       "      <td>197992</td>\n",
       "      <td>0.107701</td>\n",
       "    </tr>\n",
       "    <tr>\n",
       "      <th>65-79</th>\n",
       "      <td>0.101</td>\n",
       "      <td>0.336</td>\n",
       "      <td>0.085178</td>\n",
       "      <td>22356</td>\n",
       "      <td>88515</td>\n",
       "      <td>0.252567</td>\n",
       "    </tr>\n",
       "    <tr>\n",
       "      <th>80+</th>\n",
       "      <td>0.044</td>\n",
       "      <td>0.459</td>\n",
       "      <td>0.267096</td>\n",
       "      <td>15258</td>\n",
       "      <td>38528</td>\n",
       "      <td>0.396024</td>\n",
       "    </tr>\n",
       "  </tbody>\n",
       "</table>\n",
       "</div>"
      ],
      "text/plain": [
       "       % of infections  % of deaths  case_fatality_rate  ever_hospitalized  \\\n",
       "0-4              0.020        0.000            0.000000                418   \n",
       "5-17             0.099        0.000            0.000000                675   \n",
       "18-29            0.199        0.004            0.000515               3663   \n",
       "30-49            0.309        0.040            0.003314              13433   \n",
       "50-64            0.225        0.161            0.018321              21324   \n",
       "65-79            0.101        0.336            0.085178              22356   \n",
       "80+              0.044        0.459            0.267096              15258   \n",
       "\n",
       "       confirmed_cases  case_hospitalization_rate  \n",
       "0-4              18166                   0.023010  \n",
       "5-17             87766                   0.007691  \n",
       "18-29           175635                   0.020856  \n",
       "30-49           272494                   0.049296  \n",
       "50-64           197992                   0.107701  \n",
       "65-79            88515                   0.252567  \n",
       "80+              38528                   0.396024  "
      ]
     },
     "execution_count": 10,
     "metadata": {},
     "output_type": "execute_result"
    }
   ],
   "source": [
    "NJ_age_breakdown['ever_hospitalized'] = [\n",
    "    418, 675, 3663, 13433, 21324, 22356, 15258]\n",
    "NJ_age_breakdown['confirmed_cases'] = [\n",
    "    18166, 87766, 175635, 272494, 197992, 88515, 38528]\n",
    "NJ_age_breakdown['case_hospitalization_rate'] =\\\n",
    "    NJ_age_breakdown.ever_hospitalized/NJ_age_breakdown.confirmed_cases\n",
    "NJ_age_breakdown"
   ]
  },
  {
   "cell_type": "markdown",
   "metadata": {},
   "source": [
    "If we compare the computation I did above at the national level with this it turns out to line up pretty well."
   ]
  },
  {
   "cell_type": "code",
   "execution_count": 40,
   "metadata": {},
   "outputs": [
    {
     "data": {
      "text/plain": [
       "age\n",
       "0-4      0.020686\n",
       "5-17     0.006842\n",
       "18-29    0.018767\n",
       "30-39    0.032626\n",
       "40-49    0.048611\n",
       "50-64    0.094236\n",
       "65-74    0.193344\n",
       "75-84    0.322690\n",
       "85+      0.329052\n",
       "dtype: float64"
      ]
     },
     "execution_count": 40,
     "metadata": {},
     "output_type": "execute_result"
    }
   ],
   "source": [
    "(latest_hosp.cum_hosp_incidence/cases.infection_incidence)"
   ]
  },
  {
   "cell_type": "code",
   "execution_count": null,
   "metadata": {},
   "outputs": [],
   "source": []
  }
 ],
 "metadata": {
  "kernelspec": {
   "display_name": "Python 3",
   "language": "python",
   "name": "python3"
  },
  "language_info": {
   "codemirror_mode": {
    "name": "ipython",
    "version": 3
   },
   "file_extension": ".py",
   "mimetype": "text/x-python",
   "name": "python",
   "nbconvert_exporter": "python",
   "pygments_lexer": "ipython3",
   "version": "3.7.3"
  }
 },
 "nbformat": 4,
 "nbformat_minor": 2
}
